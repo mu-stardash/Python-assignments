{
 "cells": [
  {
   "cell_type": "code",
   "execution_count": null,
   "metadata": {},
   "outputs": [],
   "source": [
    "import numpy as np\n",
    "\n",
    "def function(int_list):\n",
    "    n_list = np.array(int_list)\n",
    "    n_list[n_list > 2] **= 2\n",
    "    n_list[n_list < 2] -= 1\n",
    "    n_list[n_list == 2] *= 2\n",
    "    n_list.sort()\n",
    "    return n_list.sum()"
   ]
  },
  {
   "cell_type": "code",
   "execution_count": null,
   "metadata": {},
   "outputs": [],
   "source": [
    "print(function([1,2,3, 0]))\n",
    "# 12\n",
    "print(function([1,2,3, 10]))\n",
    "# 113"
   ]
  },
  {
   "attachments": {},
   "cell_type": "markdown",
   "metadata": {},
   "source": [
    "Вставьте в ответ код программы с реализацией функции function(price1, price2), на вход которой подается списки средних за день цен акций компании А с двух бирж за каждый из n (n>1) дней. В function() последовательно:\n",
    "\n",
    "Создать два numpy.ndarray (numpy массив) n_price1 и n_price2 для каждого списка price1 и price2.\n",
    "\n",
    "В каждом из n_price1 и n_price2 найти средние значения, результаты сохранить в price_avg1 и price_avg2.  \n",
    "\n",
    "В каждом из n_price1 и n_price2 отобрать элементы, которые больше или равны среднему значению. Полученные результаты объединить в один массив price (тип  numpy.ndarray).\n",
    "\n",
    "В price  удалить наибольший и наименьший элемент. После в price найти среднее значение price_avg и среднеквадратичное отклонение price_std, округлить их используя функцию int().\n",
    "\n",
    "Функция function() должна с помощью return возвращать сумму округленных значений price_avg и price_std."
   ]
  },
  {
   "cell_type": "code",
   "execution_count": null,
   "metadata": {},
   "outputs": [],
   "source": [
    "import numpy as np\n",
    "\n",
    "def function(price1, price2):\n",
    "    n_price1 = np.array(price1)\n",
    "    n_price2 = np.array(price2)\n",
    "\n",
    "    price_avg1 = np.mean(n_price1)\n",
    "    price_avg2 = np.mean(n_price2)\n",
    "\n",
    "    mask1 = n_price1 >= price_avg1\n",
    "    mask2 = n_price2 >= price_avg2\n",
    "    price = np.concatenate((n_price1[mask1], n_price2[mask2]))\n",
    "\n",
    "    min = price[np.argmin(price)]\n",
    "    max = price[np.argmax(price)]\n",
    "    mask = np.logical_and(price != min, price != max)\n",
    "    price = np.delete(price, np.where(mask == False))\n",
    "\n",
    "    price_avg = np.mean(price)\n",
    "    price_std = np.std(price)\n",
    "    return int(price_avg) + int(price_std)"
   ]
  },
  {
   "cell_type": "code",
   "execution_count": null,
   "metadata": {},
   "outputs": [],
   "source": [
    "print(function([11,22,33,44,55],[11,22,33,44,55]))\n",
    "print(function([11,13,33,44,55],[11,22,40,44,55]))"
   ]
  },
  {
   "attachments": {},
   "cell_type": "markdown",
   "metadata": {},
   "source": [
    "При выполнении минимизировать использование циклов (for, while) и условного оператор if, вместо них следует использовать маски. Вставьте в ответ код программы с реализацией функции function(a,b), на вход которой подаются коэффициенты a, b одного из уравнений системы линейных алгебраических уравнений (СЛАУ) с переменными x, y, z, w:\n",
    "\n",
    "ax+bz=2\n",
    "4x+z-2w=0\n",
    "-4x+4y+w=5\n",
    "-x+y-2z+w=-2\n",
    "\n",
    "В function(a,b) решить СЛАУ (найти значения x, y, z, w), найти сумму x, y, z, w,  используя функцию int(), округлить до целого числа. С помощью return вернуть значение округленной суммы."
   ]
  },
  {
   "cell_type": "code",
   "execution_count": null,
   "metadata": {},
   "outputs": [],
   "source": [
    "import numpy as np\n",
    "\n",
    "def function(a, b):\n",
    "    A = np.array([[a, 0, b, 0], \n",
    "                  [4, 0, 1, -2], \n",
    "                  [-4, 4, 0, 1], \n",
    "                  [-1, 1, -2, 1]])\n",
    "    \n",
    "    B = np.array([2, 0, 5, -2])\n",
    "    X = np.linalg.solve(A, B)\n",
    "    summa = int(X[0] + X[1] + X[2] + X[3])\n",
    "    return summa\n"
   ]
  },
  {
   "cell_type": "code",
   "execution_count": null,
   "metadata": {},
   "outputs": [],
   "source": [
    "print(function(12,6))\n",
    "print(function(12,62))"
   ]
  }
 ],
 "metadata": {
  "language_info": {
   "name": "python"
  },
  "orig_nbformat": 4
 },
 "nbformat": 4,
 "nbformat_minor": 2
}
