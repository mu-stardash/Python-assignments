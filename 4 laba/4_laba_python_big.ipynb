{
 "cells": [
  {
   "attachments": {},
   "cell_type": "markdown",
   "metadata": {},
   "source": [
    "<img src=\"download.png\" alt= \"LAB\" width=\"600\" height=\"300\">"
   ]
  },
  {
   "cell_type": "code",
   "execution_count": 2,
   "metadata": {},
   "outputs": [],
   "source": [
    "from sympy import *"
   ]
  },
  {
   "attachments": {},
   "cell_type": "markdown",
   "metadata": {},
   "source": [
    "Задание 1 с sympy"
   ]
  },
  {
   "cell_type": "code",
   "execution_count": 3,
   "metadata": {},
   "outputs": [
    {
     "data": {
      "text/latex": [
       "$\\displaystyle 2 \\tan{\\left(x \\right)} + 1$"
      ],
      "text/plain": [
       "2*tan(x) + 1"
      ]
     },
     "metadata": {},
     "output_type": "display_data"
    },
    {
     "data": {
      "text/latex": [
       "$\\displaystyle \\int\\limits_{-1}^{2} \\left(2 \\tan{\\left(x \\right)} + 1\\right)\\, dx$"
      ],
      "text/plain": [
       "Integral(2*tan(x) + 1, (x, -1, 2))"
      ]
     },
     "metadata": {},
     "output_type": "display_data"
    },
    {
     "data": {
      "text/latex": [
       "$\\displaystyle \\text{NaN}$"
      ],
      "text/plain": [
       "nan"
      ]
     },
     "metadata": {},
     "output_type": "display_data"
    }
   ],
   "source": [
    "x, y = symbols('x y')\n",
    "expr = 2*tan(x)+1\n",
    "display(expr)\n",
    "integral = Integral(expr, (x, -1, 2))\n",
    "display(integral)\n",
    "display(integral.doit())"
   ]
  },
  {
   "cell_type": "code",
   "execution_count": 4,
   "metadata": {},
   "outputs": [
    {
     "data": {
      "text/latex": [
       "$\\displaystyle x + y$"
      ],
      "text/plain": [
       "x + y"
      ]
     },
     "metadata": {},
     "output_type": "display_data"
    },
    {
     "data": {
      "text/latex": [
       "$\\displaystyle \\int\\limits_{0}^{1}\\int\\limits_{x^{2}}^{x} \\left(x + y\\right)\\, dy\\, dx$"
      ],
      "text/plain": [
       "Integral(x + y, (y, x**2, x), (x, 0, 1))"
      ]
     },
     "metadata": {},
     "output_type": "display_data"
    },
    {
     "data": {
      "text/latex": [
       "$\\displaystyle \\frac{3}{20}$"
      ],
      "text/plain": [
       "3/20"
      ]
     },
     "metadata": {},
     "output_type": "display_data"
    }
   ],
   "source": [
    "x, y = symbols('x y')\n",
    "expr = x+y\n",
    "display(expr)\n",
    "integral = Integral(Integral(expr, (y, x**2, x)), (x, 0, 1))\n",
    "display(integral)\n",
    "display(integral.doit())"
   ]
  },
  {
   "attachments": {},
   "cell_type": "markdown",
   "metadata": {},
   "source": [
    "Задание 1 с scipy"
   ]
  },
  {
   "cell_type": "code",
   "execution_count": 5,
   "metadata": {},
   "outputs": [
    {
     "name": "stdout",
     "output_type": "stream",
     "text": [
      "(4.422578885159041, 0.2969189037450981)\n",
      "0.14999999999999997\n"
     ]
    },
    {
     "name": "stderr",
     "output_type": "stream",
     "text": [
      "C:\\Users\\mikko\\AppData\\Local\\Temp\\ipykernel_18712\\2287188496.py:5: IntegrationWarning: The integral is probably divergent, or slowly convergent.\n",
      "  result = integrate.quad(lambda x: 2*tan(x)+1, -1, 2)\n"
     ]
    }
   ],
   "source": [
    "import numpy as np\n",
    "import scipy.integrate as integrate\n",
    "\n",
    "# integrate.quad – определенный интеграл, РАСХОДИТСЯ, несобственный интеграл с разрывами на интервале при пи/2\n",
    "result = integrate.quad(lambda x: 2*tan(x)+1, -1, 2) \n",
    "print(result)      \n",
    "\n",
    "area = integrate.dblquad(  \n",
    "    lambda x,y:x+y,  \n",
    "    0, 1,  # Пределы внешнего (y) интеграла\n",
    "    lambda x:x**2, lambda x:x  # Пределы внутреннего(x) интеграла\n",
    ")\n",
    "print(area[0]) "
   ]
  },
  {
   "attachments": {},
   "cell_type": "markdown",
   "metadata": {},
   "source": [
    "<img src=\"download.png\" alt= \"LAB\" width=\"600\" height=\"300\">"
   ]
  },
  {
   "attachments": {},
   "cell_type": "markdown",
   "metadata": {},
   "source": [
    "Задание 2 - задача Коши!"
   ]
  },
  {
   "attachments": {},
   "cell_type": "markdown",
   "metadata": {},
   "source": [
    "Здесь мы выбираем метод интегрирования \"RK45\" и ограничиваем шаг интегрирования максимальной величиной max_step. Также мы устанавливаем относительную (rtol) и абсолютную (atol) точности, чтобы гарантировать, что погрешность решения не превысит 0.01."
   ]
  },
  {
   "attachments": {},
   "cell_type": "markdown",
   "metadata": {},
   "source": [
    "y(x) = x^2 + 1  -- result!, so y(3) = 10"
   ]
  },
  {
   "cell_type": "code",
   "execution_count": 13,
   "metadata": {},
   "outputs": [
    {
     "name": "stdout",
     "output_type": "stream",
     "text": [
      "10.000000018036047\n",
      "10.000222222222874\n",
      "TIME  0.0010001659393310547\n",
      "YES\n",
      "0.00022220418682650234\n"
     ]
    },
    {
     "data": {
      "image/png": "[encoded data removed]",
      "text/plain": [
       "<Figure size 640x480 with 1 Axes>"
      ]
     },
     "metadata": {},
     "output_type": "display_data"
    }
   ],
   "source": [
    "from scipy.integrate import odeint\n",
    "import matplotlib.pyplot as plt\n",
    "import time\n",
    "\n",
    "def f(y, x):\n",
    "    return 2*x # Правая часть (ПЧ) дифференциального уравнения \n",
    "\n",
    "start = time.time()\n",
    "y0 = 1.0  # Начальное условие\n",
    "k_step = 1000  # Количество шагов разбиения отрезка для численного интегрирования\n",
    "x_output = np.linspace(0, 3, k_step)  \n",
    "y_result = odeint(f, y0, x_output, rtol=0.01, atol=0.01)\n",
    "y_result = y_result[:, 0]\n",
    "print(y_result[-1])\n",
    "\n",
    "# 100 times less\n",
    "k_step = 10\n",
    "x_output = np.linspace(0, 3, k_step)\n",
    "y_result_2 = odeint(f, y0, x_output, rtol=0.01, atol=0.01)\n",
    "y_result_2 = y_result_2[:, 0]\n",
    "print(y_result_2[-1])\n",
    "\n",
    "end = time.time() - start\n",
    "\n",
    "print(\"TIME \", end)\n",
    "\n",
    "if abs(y_result_2[-1] - y_result[-1]) < 0.01:\n",
    "    print(\"YES\")\n",
    "    print(abs(y_result_2[-1] - y_result[-1]))\n",
    "else:\n",
    "    print(\"No\")\n",
    "\n",
    "plt.plot(x_output,y_result_2)\n",
    "plt.xlabel('time')\n",
    "plt.ylabel('y(x)')\n",
    "plt.show()"
   ]
  },
  {
   "attachments": {},
   "cell_type": "markdown",
   "metadata": {},
   "source": [
    "<img src=\"download.png\" alt= \"LAB\" width=\"600\" height=\"300\">"
   ]
  },
  {
   "attachments": {},
   "cell_type": "markdown",
   "metadata": {},
   "source": [
    "Задание 3"
   ]
  },
  {
   "attachments": {},
   "cell_type": "markdown",
   "metadata": {},
   "source": [
    "Линейная и кубическая интерполяции - это методы аппроксимации функций, которые используются для оценки значений функции в точках, которые находятся между ее известными значениями."
   ]
  },
  {
   "cell_type": "code",
   "execution_count": 41,
   "metadata": {},
   "outputs": [
    {
     "name": "stdout",
     "output_type": "stream",
     "text": [
      "[ 0  1  2  3  4  5  6  7  8  9 10 11 12 13 14 15]\n",
      "[0.         0.09070257 2.17101606 2.01146631 1.01064175 2.78008909\n",
      " 2.98606266 1.65514396 3.11633044 3.75098725 2.24933241 3.3254761\n",
      " 4.36967998 2.84299282 3.4707516  4.86101497]\n"
     ]
    },
    {
     "data": {
      "image/png": "[encoded data removed]",
      "text/plain": [
       "<Figure size 640x480 with 1 Axes>"
      ]
     },
     "metadata": {},
     "output_type": "display_data"
    }
   ],
   "source": [
    "from scipy.interpolate import interp1d\n",
    "\n",
    "x = np.arange(16)\n",
    "# x = np.linspace(0, 15, num=16, endpoint=True)  # Точки для интерполяции\n",
    "print(x)\n",
    "y = -np.sin(2*x) + np.sqrt(x)  # Значения функции в точках x\n",
    "print(y)\n",
    "\n",
    "# endpoint=True - also included\n",
    "x_new = np.linspace(0, 15, num=100, endpoint=True)  # Новые точки x\n",
    "fun_linear = interp1d(x, y, kind='linear')  # Вызываем линейную интерполяцию\n",
    "fun_cubic = interp1d(x, y, kind='cubic')  # Вызываем кубическую интерполяцию\n",
    "\n",
    "plt.plot(x, y, 'o', x_new, fun_linear(x_new), '-', x_new, fun_cubic(x_new), '--')\n",
    "plt.legend(['Данные', 'линейная', 'кубическая'], loc='best')\n",
    "plt.show()"
   ]
  },
  {
   "attachments": {},
   "cell_type": "markdown",
   "metadata": {},
   "source": [
    "<img src=\"download.png\" alt= \"LAB\" width=\"600\" height=\"300\">"
   ]
  },
  {
   "attachments": {},
   "cell_type": "markdown",
   "metadata": {},
   "source": [
    "Задание 4"
   ]
  },
  {
   "attachments": {},
   "cell_type": "markdown",
   "metadata": {},
   "source": [
    "Для заданной случайной величины X, которая представляет количество выпавших очков на игральном кубике, мы имеем дискретное равномерное распределение с параметрами a=1 и b=6, где a - это наименьшее возможное значение X, а b - наибольшее возможное значение X."
   ]
  },
  {
   "attachments": {},
   "cell_type": "markdown",
   "metadata": {},
   "source": [
    ".median() использует интерполяционный алгоритм для нахождения значения медианы. Для равномерного распределения с нечетным числом возможных значений, как в данном случае, интерполяция между средними двумя значениями дает медиану, равную (a + b) / 2, т.е. в данном случае 3.0."
   ]
  },
  {
   "attachments": {},
   "cell_type": "markdown",
   "metadata": {},
   "source": [
    "Лучше посчитать вот так: М(X) = (a + b) / 2"
   ]
  },
  {
   "cell_type": "code",
   "execution_count": 65,
   "metadata": {},
   "outputs": [
    {
     "name": "stdout",
     "output_type": "stream",
     "text": [
      "[1. 2. 3. 4. 5. 6.]\n",
      "[0.16666667 0.16666667 0.16666667 0.16666667 0.16666667 0.16666667]\n",
      "Математическое ожидание: 3.5\n",
      "Медиана: 3.0\n",
      "Median handle: 3.5\n",
      "Дисперсия: 2.92\n"
     ]
    }
   ],
   "source": [
    "import scipy.stats\n",
    "\n",
    "xk = np.linspace(1, 6, num=6, endpoint=True)  # Точки для интерполяции\n",
    "print(xk)\n",
    "\n",
    "# Задаем распределение (дискретное СВ)\n",
    "probabilities = np.ones_like(xk) / len(xk)\n",
    "print(probabilities)\n",
    "my_rv = scipy.stats.rv_discrete(values=(xk, probabilities))\n",
    "\n",
    "print('Математическое ожидание:', my_rv.mean())   \n",
    "print('Медиана:', my_rv.median()) \n",
    "print('Median handle:', (my_rv.a+my_rv.b)/2)\n",
    "print(f'Дисперсия: {my_rv.var():.2f}')\n"
   ]
  },
  {
   "attachments": {},
   "cell_type": "markdown",
   "metadata": {},
   "source": [
    "pmf(k) — значение дискретной плотности в точке  k (Probability Mass Function)\n",
    "<br>\n",
    "cdf(x) — значение функции распределения в точке  x (Cumulative Distribution Function)"
   ]
  },
  {
   "cell_type": "code",
   "execution_count": 79,
   "metadata": {},
   "outputs": [
    {
     "data": {
      "image/png": "[encoded data removed]",
      "text/plain": [
       "<Figure size 640x480 with 2 Axes>"
      ]
     },
     "metadata": {},
     "output_type": "display_data"
    }
   ],
   "source": [
    "%matplotlib inline\n",
    "import matplotlib.pyplot as plt\n",
    "fig = plt.figure()\n",
    "ax1 = fig.add_subplot(1, 2, 1)\n",
    "plt.subplots_adjust(wspace=0.5)\n",
    "ax2 = fig.add_subplot(1, 2, 2)\n",
    "ax1.plot(xk, my_rv.cdf(xk), 'o') # график функции распределения д.с.в.\n",
    "ax1.vlines(xk, 0, my_rv.cdf(xk), colors='green')\n",
    "ax1.set_title('cdf - функция распределения')\n",
    "ax1.set_xlabel('Значения X')\n",
    "ax1.set_ylabel('Вероятность')\n",
    "\n",
    "ax2.plot(xk, my_rv.pmf(xk)) # график закона распредления д.с.в. (плотности вероятностей)\n",
    "ax2.vlines(xk, 0, my_rv.pmf(xk), colors='green')\n",
    "ax2.set_title('pmf - функция вероятности')\n",
    "ax2.set_xlabel('Значения X')\n",
    "ax2.set_ylabel('Вероятность')\n",
    "\n",
    "plt.show()"
   ]
  },
  {
   "attachments": {},
   "cell_type": "markdown",
   "metadata": {},
   "source": [
    "<img src=\"download.png\" alt= \"LAB\" width=\"600\" height=\"300\">"
   ]
  },
  {
   "attachments": {},
   "cell_type": "markdown",
   "metadata": {},
   "source": [
    "Задание 5"
   ]
  },
  {
   "cell_type": "code",
   "execution_count": 81,
   "metadata": {},
   "outputs": [],
   "source": [
    "def show_expr(func, expr, *args, **kwargs):\n",
    "    display(expr)\n",
    "    display(func(expr, *args, **kwargs))"
   ]
  },
  {
   "cell_type": "code",
   "execution_count": 90,
   "metadata": {},
   "outputs": [
    {
     "data": {
      "text/plain": [
       "[x - y + z - 2, 2*x - y + z - 3, 3*x - 3*y + z]"
      ]
     },
     "metadata": {},
     "output_type": "display_data"
    },
    {
     "data": {
      "text/latex": [
       "$\\displaystyle \\left\\{\\left( 1, \\  2, \\  3\\right)\\right\\}$"
      ],
      "text/plain": [
       "{(1, 2, 3)}"
      ]
     },
     "metadata": {},
     "output_type": "display_data"
    }
   ],
   "source": [
    "x, y, z = symbols('x y z')\n",
    "# В форме СЛАУ:\n",
    "show_expr(linsolve, [x-y+z-2, 2*x-y+z-3, 3*x-3*y+z-0], (x, y, z))"
   ]
  },
  {
   "cell_type": "code",
   "execution_count": 106,
   "metadata": {},
   "outputs": [
    {
     "data": {
      "text/latex": [
       "$\\displaystyle x - y + z = 2$"
      ],
      "text/plain": [
       "x - y + z = 2"
      ]
     },
     "metadata": {},
     "output_type": "display_data"
    },
    {
     "data": {
      "text/latex": [
       "$\\displaystyle 2 x - y + z = 3$"
      ],
      "text/plain": [
       "2⋅x - y + z = 3"
      ]
     },
     "metadata": {},
     "output_type": "display_data"
    },
    {
     "data": {
      "text/latex": [
       "$\\displaystyle 3 x - 3 y + z = 0$"
      ],
      "text/plain": [
       "3⋅x - 3⋅y + z = 0"
      ]
     },
     "metadata": {},
     "output_type": "display_data"
    },
    {
     "name": "stdout",
     "output_type": "stream",
     "text": [
      "x: 1\n",
      "y: 2\n",
      "z: 3\n"
     ]
    }
   ],
   "source": [
    "# symbolic equations - Eq, not = or ==\n",
    "eq1 = Eq(x-y+z,2)\n",
    "eq2 = Eq(2*x-y+z,3)\n",
    "eq3 = Eq(3*x-3*y+z, 0)\n",
    "\n",
    "display(eq1, eq2, eq3)\n",
    "\n",
    "eqs = [eq1, eq2, eq3]\n",
    "res = linsolve(eqs, (x, y, z))\n",
    "# display(res)\n",
    "print(f'x: {res.args[0][0]}')\n",
    "print(f'y: {res.args[0][1]}')\n",
    "print(f'z: {res.args[0][2]}')"
   ]
  }
 ],
 "metadata": {
  "kernelspec": {
   "display_name": "base",
   "language": "python",
   "name": "python3"
  },
  "language_info": {
   "codemirror_mode": {
    "name": "ipython",
    "version": 3
   },
   "file_extension": ".py",
   "mimetype": "text/x-python",
   "name": "python",
   "nbconvert_exporter": "python",
   "pygments_lexer": "ipython3",
   "version": "3.9.12"
  },
  "orig_nbformat": 4
 },
 "nbformat": 4,
 "nbformat_minor": 2
}
