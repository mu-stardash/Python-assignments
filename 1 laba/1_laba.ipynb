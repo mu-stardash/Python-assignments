{
 "cells": [
  {
   "attachments": {},
   "cell_type": "markdown",
   "metadata": {},
   "source": [
    "Вставьте в ответ код программы, в которой реализована функция work(n), на вход которой подается положительное целое число n, где n больше 5 и меньше 100. В этой функции последовательно:\n",
    "\n",
    "1. Создайте первый список простых чисел, которые больше 2 и меньше n.\n",
    "\n",
    "2. Создайте второй список простых чисел, которые больше 199 и меньше 501.\n",
    "\n",
    "3. В конец первого списка встаньте элементы второго списка.\n",
    "\n",
    "4. Удалите элемент с индексом 20 из обновленного первого списка.\n",
    "\n",
    "Функция work(n) должна с помощью return возвращать  сумму элементов обновленного первого списка с индексами 14 и 30.\n",
    "\n",
    "Простое число – натуральное (целое положительное) число, имеющее ровно два различных натуральных делителя: единицу и самого себя."
   ]
  },
  {
   "cell_type": "code",
   "execution_count": 106,
   "metadata": {},
   "outputs": [],
   "source": [
    "def prime(x):\n",
    "    for i in range(2, x):\n",
    "        if x % i == 0:\n",
    "            return False\n",
    "    return True\n",
    "\n",
    "def work(n):\n",
    "    if n >= 100 or n <= 5:\n",
    "        return False\n",
    "    list_1 = []\n",
    "    list_2 = []\n",
    "\n",
    "    for number in range(3, n):\n",
    "        if prime(number):\n",
    "            list_1.append(number)\n",
    "\n",
    "    for number in range(200, 501):\n",
    "        if prime(number):\n",
    "            list_2.append(number)\n",
    "\n",
    "\n",
    "    print(list_1)\n",
    "    print(list_2)\n",
    "\n",
    "    list_1.extend(list_2) \n",
    "    print(list_1)\n",
    "    list_1.pop(20)\n",
    "    summa = list_1[13] + list_1[29]   \n",
    "\n",
    "    return summa"
   ]
  },
  {
   "cell_type": "code",
   "execution_count": 109,
   "metadata": {},
   "outputs": [
    {
     "name": "stdout",
     "output_type": "stream",
     "text": [
      "[3, 5]\n",
      "[211, 223, 227, 229, 233, 239, 241, 251, 257, 263, 269, 271, 277, 281, 283, 293, 307, 311, 313, 317, 331, 337, 347, 349, 353, 359, 367, 373, 379, 383, 389, 397, 401, 409, 419, 421, 431, 433, 439, 443, 449, 457, 461, 463, 467, 479, 487, 491, 499]\n",
      "[3, 5, 211, 223, 227, 229, 233, 239, 241, 251, 257, 263, 269, 271, 277, 281, 283, 293, 307, 311, 313, 317, 331, 337, 347, 349, 353, 359, 367, 373, 379, 383, 389, 397, 401, 409, 419, 421, 431, 433, 439, 443, 449, 457, 461, 463, 467, 479, 487, 491, 499]\n"
     ]
    },
    {
     "data": {
      "text/plain": [
       "650"
      ]
     },
     "execution_count": 109,
     "metadata": {},
     "output_type": "execute_result"
    }
   ],
   "source": [
    "work(7)"
   ]
  },
  {
   "cell_type": "code",
   "execution_count": 110,
   "metadata": {},
   "outputs": [],
   "source": [
    "def work(n=None):\n",
    "    if n >= 100 or n <= 5:\n",
    "        return False\n",
    "    list_1 = []\n",
    "    list_2 = []  \n",
    "\n",
    "    for number in range(3, n):\n",
    "        flag = True\n",
    "        for i in range(2, number):\n",
    "            if number % i == 0:\n",
    "                flag = False\n",
    "        if flag == True:\n",
    "            list_1.append(number)\n",
    "\n",
    "    for number in range(200, 501):\n",
    "        flag = True\n",
    "        for i in range(2, number):\n",
    "            if number % i == 0:\n",
    "                flag = False\n",
    "        if flag == True:\n",
    "            list_2.append(number)\n",
    "\n",
    "    list_1 = list_1 + list_2\n",
    "    list_1.pop(20)\n",
    "\n",
    "    return  list_1[13] + list_1[29]"
   ]
  },
  {
   "cell_type": "code",
   "execution_count": 111,
   "metadata": {},
   "outputs": [
    {
     "data": {
      "text/plain": [
       "650"
      ]
     },
     "execution_count": 111,
     "metadata": {},
     "output_type": "execute_result"
    }
   ],
   "source": [
    "work(7)"
   ]
  },
  {
   "attachments": {},
   "cell_type": "markdown",
   "metadata": {},
   "source": [
    "Вставьте в ответ код программы, в которой реализована функция my_set(n), на вход которой подается положительное целое число n. В этой функции:\n",
    "\n",
    "1. Создайте исходное множество, содержащее все целые положительные числа, меньшие n. \n",
    "\n",
    "2. Из значений исходного множества отберите те, которые делятся на 2 нацело, и поместите их во множество set_1. \n",
    "\n",
    "3. Из значений исходного множества отберите те, которые делятся на 4 нацело, и поместите их во множество set_2. \n",
    "\n",
    "Функция my_set(n) должна с помощью return возвращать сумму элементов разности множеств set_1 и set_2."
   ]
  },
  {
   "cell_type": "code",
   "execution_count": 112,
   "metadata": {},
   "outputs": [],
   "source": [
    "def my_set(n):\n",
    "    original_set = set(range(1, n))\n",
    "    set_1 = set(x for x in original_set if x % 2 == 0)\n",
    "    set_2 = set(x for x in original_set if x % 4 == 0)\n",
    "    return sum(set_1 - set_2)"
   ]
  },
  {
   "cell_type": "code",
   "execution_count": 113,
   "metadata": {},
   "outputs": [
    {
     "name": "stdout",
     "output_type": "stream",
     "text": [
      "50\n"
     ]
    }
   ],
   "source": [
    "print(my_set(19))"
   ]
  },
  {
   "cell_type": "code",
   "execution_count": 114,
   "metadata": {},
   "outputs": [
    {
     "name": "stdout",
     "output_type": "stream",
     "text": [
      "512\n"
     ]
    }
   ],
   "source": [
    "print(my_set(63))"
   ]
  },
  {
   "attachments": {},
   "cell_type": "markdown",
   "metadata": {},
   "source": [
    "Написать функцию weather_forecast(day), на вход которой подается номер дня day (число: 1, 2, …, 10). В этой функции реализовать:\n",
    "\n",
    "1. Создание словаря weather_station1 с полученной с первой метеостанции информацией о погоде, при этом ключ = номер дня (1, 2, … 10), значение = [температура, атмосферное давление]: \n",
    "\n",
    "\n",
    "\n",
    "2. Создание словаря weather_station2 с полученной со второй метеостанции информацией о погоде, при этом ключ = номер дня (1, 2, … 10), значение = [температура, влажность]:  \n",
    "\n",
    "\n",
    "\n",
    "3. Функция weather_forecast(day) должна находить температуру, атмосферное давление, влажность в указанный день day, при этом температура ищется как среднее арифметическое значений температуры, которые получены на weather_station1 и weather_station2. С помощью return функция weather_forecast(day) должна возвращать сумму полученных температуры, атмосферного давления, влажности."
   ]
  },
  {
   "cell_type": "code",
   "execution_count": 121,
   "metadata": {},
   "outputs": [],
   "source": [
    "def weather_forecast(day):\n",
    "    if day > 10 or day < 1:\n",
    "        return False\n",
    "        \n",
    "    # значение = [температура, атмосферное давление]\n",
    "    weather_station1 = {\n",
    "        1: [20, 735],\n",
    "        2: [21, 737],\n",
    "        3: [23, 740],\n",
    "        4: [20, 739],\n",
    "        5: [21, 750],\n",
    "        6: [21, 751],\n",
    "        7: [22, 749],\n",
    "        8: [19, 745],\n",
    "        9: [22, 752],\n",
    "        10: [23, 753]\n",
    "    }\n",
    "\n",
    "    # значение = [температура, влажность]\n",
    "    weather_station2 = {\n",
    "        1: [20, 89],\n",
    "        2: [20, 90],\n",
    "        3: [24, 95],\n",
    "        4: [20, 88],\n",
    "        5: [21, 87],\n",
    "        6: [21, 80],\n",
    "        7: [22, 72],\n",
    "        8: [18, 80],\n",
    "        9: [22, 75],\n",
    "        10: [23, 78]\n",
    "    }\n",
    "\n",
    "    temperature = (weather_station1[day][0] + weather_station2[day][0]) / 2\n",
    "    atmospheric_pressure = weather_station1[day][1]\n",
    "    humidity = weather_station2[day][1]\n",
    "\n",
    "    return temperature + atmospheric_pressure + humidity"
   ]
  },
  {
   "cell_type": "code",
   "execution_count": 127,
   "metadata": {},
   "outputs": [
    {
     "name": "stdout",
     "output_type": "stream",
     "text": [
      "False\n"
     ]
    }
   ],
   "source": [
    "print(weather_forecast(11))"
   ]
  },
  {
   "attachments": {},
   "cell_type": "markdown",
   "metadata": {},
   "source": [
    "Вставьте в ответ код программы с реализацией функции check_generator(),  в которой:\n",
    "\n",
    "1. Написать однострочный генератор списков и с его помощью создать список mas_gen, который включает все целые неотрицательные числа, которые < 1000000 и нацело делятся на 7. После с помощью функции getsizeof() из модуля sys получить объём памяти который занимает mas_gen и сохранить его в переменную mem1.\n",
    "\n",
    "2. Используя yield, написать генератор, реализующий аналогичную mas_gen последовательность чисел. Поочерёдно сгенерировать два элемента. С помощью функции getsizeof() получить объём памяти, который занимает второй сгенерированный элемент и сохранить его в переменную mem2.\n",
    "\n",
    "3. Сравнить объем памяти, выделяемый под этот список и под генератор. Функция check_generator() должна с помощью return вывести разность mem1 и mem2."
   ]
  },
  {
   "cell_type": "code",
   "execution_count": 40,
   "metadata": {},
   "outputs": [],
   "source": [
    "import sys\n",
    "\n",
    "def check_generator():\n",
    "    mas_gen = [num for num in range(1000000) if num % 7 == 0]\n",
    "    mem1 = sys.getsizeof(mas_gen)\n",
    "\n",
    "    def generator_massive():\n",
    "        for i in range(1000000):\n",
    "            if i % 7 == 0:\n",
    "                yield i \n",
    "\n",
    "    gen = generator_massive()\n",
    "    iterator = iter(gen)\n",
    "    mem2 = sys.getsizeof(next(iterator))\n",
    "    return mem1 - mem2"
   ]
  },
  {
   "cell_type": "code",
   "execution_count": 41,
   "metadata": {},
   "outputs": [
    {
     "name": "stdout",
     "output_type": "stream",
     "text": [
      "1283136\n"
     ]
    }
   ],
   "source": [
    "print(check_generator())"
   ]
  },
  {
   "cell_type": "code",
   "execution_count": 42,
   "metadata": {},
   "outputs": [
    {
     "name": "stdout",
     "output_type": "stream",
     "text": [
      "1283132\n"
     ]
    }
   ],
   "source": [
    "import sys\n",
    "\n",
    "def check_generator():\n",
    "    mas_gen = [num for num in range(1000000) if num % 7 == 0]\n",
    "    mem1 = sys.getsizeof(mas_gen)\n",
    "    \n",
    "    def generator_massive():\n",
    "        for num in range(1000000):\n",
    "            if num % 7 == 0:\n",
    "                yield num\n",
    "\n",
    "    gen = generator_massive()\n",
    "    _ = next(gen)\n",
    "    mem2 = sys.getsizeof(next(gen))\n",
    "    \n",
    "    return mem1 - mem2\n",
    "\n",
    "print(check_generator())"
   ]
  },
  {
   "attachments": {},
   "cell_type": "markdown",
   "metadata": {},
   "source": [
    "Вставьте в ответ код программы с реализацией функции function(n), на вход которой подается положительное целое число n (n < 10). В этой функции последовательно:\n",
    "\n",
    "1. Создать список list_1 из положительных целых чисел, которые меньше 101: [1, 2, 3, …,  100].\n",
    "\n",
    "2. С помощью функции filter() отобрать из list_1 числа, которые нацело делятся на n. \n",
    "\n",
    "3. С помощью функции map() каждое число из списка list_1 возвести в квадрат и из этих квадратов составить список list_2. \n",
    "\n",
    "4. С помощью функции zip() получить список list_3 кортежей из соответствующих элементов list_1 и list_2.\n",
    "\n",
    "Функция function(n) должна с помощью return должна возвращать сумму всех чисел в list_3. "
   ]
  },
  {
   "cell_type": "code",
   "execution_count": 70,
   "metadata": {},
   "outputs": [
    {
     "name": "stdout",
     "output_type": "stream",
     "text": [
      "114444\n"
     ]
    }
   ],
   "source": [
    "def function(n):\n",
    "    if n >= 10:\n",
    "        return False\n",
    "    list_1 = [i for i in range(101)]\n",
    "\n",
    "    def del_n(i):\n",
    "        if i % n == 0:\n",
    "            return i\n",
    "\n",
    "    list_1 = list(filter(del_n, list_1))\n",
    "\n",
    "    list_2 = list(map(lambda x: x ** 2, list_1)) \n",
    "\n",
    "    list_3 = list(zip(list_1, list_2))\n",
    "\n",
    "    return sum(map(lambda x: sum(x), list_3))\n",
    "\n",
    "print(function(3))"
   ]
  },
  {
   "attachments": {},
   "cell_type": "markdown",
   "metadata": {},
   "source": [
    "***ЭТО ДЛЯ ИМ***"
   ]
  },
  {
   "cell_type": "code",
   "execution_count": 136,
   "metadata": {},
   "outputs": [
    {
     "name": "stdout",
     "output_type": "stream",
     "text": [
      "0.0390625\n"
     ]
    },
    {
     "data": {
      "image/png": "[encoded data removed]",
      "text/plain": [
       "<Figure size 640x480 with 1 Axes>"
      ]
     },
     "metadata": {},
     "output_type": "display_data"
    },
    {
     "name": "stdout",
     "output_type": "stream",
     "text": [
      "The sample is consistent with the given distribution (p-value = 0.399)\n"
     ]
    }
   ],
   "source": [
    "import numpy as np\n",
    "import scipy.stats as st\n",
    "import matplotlib.pyplot as plt\n",
    "\n",
    "# Function to calculate the cumulative distribution function\n",
    "def cdf(x):\n",
    "    return x*4/5\n",
    "\n",
    "# Function to calculate the inverse of the cumulative distribution function\n",
    "def inv_cdf(p):\n",
    "    return (5 * p)*(1/4)\n",
    "\n",
    "# Generate a random sample using inverse transform sampling\n",
    "np.random.seed(0)\n",
    "N = 1000\n",
    "U = np.random.uniform(0, 1, N)\n",
    "X = inv_cdf(U)\n",
    "\n",
    "# Calculate the normalization constant\n",
    "A = 5*(3/4) / (4 * 4 * 3 * 2)\n",
    "print(A)\n",
    "A = 0.006400000000000001\n",
    "\n",
    "# Plot the histogram of the generated sample\n",
    "plt.hist(X, bins=100, density=True, label='Generated Sample')\n",
    "\n",
    "# Plot the expected probability density function\n",
    "x = np.linspace(0, 5, 1000)\n",
    "pdf = A * x**3 * (5 - x)\n",
    "plt.plot(x, pdf, 'r', label='Expected PDF')\n",
    "plt.legend()\n",
    "plt.show()\n",
    "\n",
    "# Perform the Kolmogorov-Smirnov goodness-of-fit test\n",
    "D, p_value = st.kstest(X, cdf)\n",
    "\n",
    "# Print the test results\n",
    "if p_value > 0.05:\n",
    "    print(\"The sample is consistent with the given distribution (p-value = {:.3f})\".format(p_value))\n",
    "else:\n",
    "    print(\"The sample is NOT consistent with the given distribution (p-value = {:.3f})\".format(p_value))"
   ]
  },
  {
   "cell_type": "code",
   "execution_count": 73,
   "metadata": {},
   "outputs": [
    {
     "name": "stdout",
     "output_type": "stream",
     "text": [
      "Collecting gensim\n",
      "  Downloading gensim-4.3.0-cp39-cp39-win_amd64.whl (24.0 MB)\n",
      "     ---------------------------------------- 24.0/24.0 MB 1.4 MB/s eta 0:00:00\n",
      "Requirement already satisfied: smart-open>=1.8.1 in c:\\users\\mikko\\anaconda3\\lib\\site-packages (from gensim) (6.3.0)\n",
      "Collecting Cython==0.29.32\n",
      "  Downloading Cython-0.29.32-py2.py3-none-any.whl (986 kB)\n",
      "     -------------------------------------- 986.3/986.3 kB 1.5 MB/s eta 0:00:00\n",
      "Requirement already satisfied: numpy>=1.18.5 in c:\\users\\mikko\\anaconda3\\lib\\site-packages (from gensim) (1.23.3)\n",
      "Collecting FuzzyTM>=0.4.0\n",
      "  Downloading FuzzyTM-2.0.5-py3-none-any.whl (29 kB)\n",
      "Requirement already satisfied: scipy>=1.7.0 in c:\\users\\mikko\\anaconda3\\lib\\site-packages (from gensim) (1.9.3)\n",
      "Requirement already satisfied: pandas in c:\\users\\mikko\\anaconda3\\lib\\site-packages (from FuzzyTM>=0.4.0->gensim) (1.5.0)\n",
      "Collecting pyfume\n",
      "  Downloading pyFUME-0.2.25-py3-none-any.whl (67 kB)\n",
      "     ---------------------------------------- 67.1/67.1 kB 1.2 MB/s eta 0:00:00\n",
      "Requirement already satisfied: pytz>=2020.1 in c:\\users\\mikko\\anaconda3\\lib\\site-packages (from pandas->FuzzyTM>=0.4.0->gensim) (2022.1)\n",
      "Requirement already satisfied: python-dateutil>=2.8.1 in c:\\users\\mikko\\anaconda3\\lib\\site-packages (from pandas->FuzzyTM>=0.4.0->gensim) (2.8.2)\n",
      "Collecting simpful\n",
      "  Downloading simpful-2.9.0-py3-none-any.whl (30 kB)\n",
      "Collecting fst-pso\n",
      "  Downloading fst-pso-1.8.1.tar.gz (18 kB)\n",
      "  Preparing metadata (setup.py): started\n",
      "  Preparing metadata (setup.py): finished with status 'done'\n",
      "Requirement already satisfied: six>=1.5 in c:\\users\\mikko\\anaconda3\\lib\\site-packages (from python-dateutil>=2.8.1->pandas->FuzzyTM>=0.4.0->gensim) (1.16.0)\n",
      "Collecting miniful\n",
      "  Downloading miniful-0.0.6.tar.gz (2.8 kB)\n",
      "  Preparing metadata (setup.py): started\n",
      "  Preparing metadata (setup.py): finished with status 'done'\n",
      "Requirement already satisfied: requests in c:\\users\\mikko\\anaconda3\\lib\\site-packages (from simpful->pyfume->FuzzyTM>=0.4.0->gensim) (2.28.1)\n",
      "Requirement already satisfied: idna<4,>=2.5 in c:\\users\\mikko\\anaconda3\\lib\\site-packages (from requests->simpful->pyfume->FuzzyTM>=0.4.0->gensim) (3.3)\n",
      "Requirement already satisfied: certifi>=2017.4.17 in c:\\users\\mikko\\anaconda3\\lib\\site-packages (from requests->simpful->pyfume->FuzzyTM>=0.4.0->gensim) (2022.12.7)\n",
      "Requirement already satisfied: urllib3<1.27,>=1.21.1 in c:\\users\\mikko\\anaconda3\\lib\\site-packages (from requests->simpful->pyfume->FuzzyTM>=0.4.0->gensim) (1.26.11)\n",
      "Requirement already satisfied: charset-normalizer<3,>=2 in c:\\users\\mikko\\anaconda3\\lib\\site-packages (from requests->simpful->pyfume->FuzzyTM>=0.4.0->gensim) (2.0.4)\n",
      "Building wheels for collected packages: fst-pso, miniful\n",
      "  Building wheel for fst-pso (setup.py): started\n",
      "  Building wheel for fst-pso (setup.py): finished with status 'done'\n",
      "  Created wheel for fst-pso: filename=fst_pso-1.8.1-py3-none-any.whl size=20431 sha256=bc2c3a5ec42727764cfe9e6ec0536309ca400920f7cd4ccfbc8bee5b10338409\n",
      "  Stored in directory: c:\\users\\mikko\\appdata\\local\\pip\\cache\\wheels\\99\\66\\48\\d7ce0c6927f6abf167bbcdee537affc7b92c03632f78028411\n",
      "  Building wheel for miniful (setup.py): started\n",
      "  Building wheel for miniful (setup.py): finished with status 'done'\n",
      "  Created wheel for miniful: filename=miniful-0.0.6-py3-none-any.whl size=3514 sha256=e2029ade453e216558f64f68d402983e99cd4b296ef38ea0358237e34120b517\n",
      "  Stored in directory: c:\\users\\mikko\\appdata\\local\\pip\\cache\\wheels\\d9\\c7\\71\\db1d4646d963b34c530667501d3d6f34c0825eaffae2f0f2cb\n",
      "Successfully built fst-pso miniful\n",
      "Installing collected packages: Cython, simpful, miniful, fst-pso, pyfume, FuzzyTM, gensim\n",
      "Successfully installed Cython-0.29.32 FuzzyTM-2.0.5 fst-pso-1.8.1 gensim-4.3.0 miniful-0.0.6 pyfume-0.2.25 simpful-2.9.0\n",
      "Note: you may need to restart the kernel to use updated packages.\n"
     ]
    }
   ],
   "source": [
    "pip install gensim"
   ]
  },
  {
   "cell_type": "code",
   "execution_count": 80,
   "metadata": {},
   "outputs": [
    {
     "name": "stdout",
     "output_type": "stream",
     "text": [
      "Topics: [['0', '053', 'learning', '0', '053', 'of', '0', '053', 'is', '0', '053', 'machine', '0', '053', 'deep'], ['0', '053', 'learning', '0', '053', 'is', '0', '053', 'of', '0', '053', 'machine', '0', '053', 'type'], ['0', '053', 'learning', '0', '053', 'of', '0', '053', 'is', '0', '053', 'machine', '0', '053', 'deep'], ['0', '243', 'learning', '0', '124', 'machine', '0', '124', 'of', '0', '124', 'type', '0', '124', 'is'], ['0', '053', 'learning', '0', '053', 'is', '0', '053', 'machine', '0', '053', 'of', '0', '053', 'deep'], ['0', '195', 'learning', '0', '132', 'machine', '0', '132', 'of', '0', '132', 'is', '0', '069', 'deep'], ['0', '053', 'learning', '0', '053', 'is', '0', '053', 'machine', '0', '053', 'of', '0', '053', 'type'], ['0', '053', 'learning', '0', '053', 'is', '0', '053', 'machine', '0', '053', 'of', '0', '053', 'type'], ['0', '111', 'learning', '0', '111', 'deep', '0', '111', 'in', '0', '111', 'method', '0', '111', 'neural'], ['0', '053', 'learning', '0', '053', 'is', '0', '053', 'machine', '0', '053', 'of', '0', '053', 'deep']]\n"
     ]
    }
   ],
   "source": [
    "import re\n",
    "from gensim import corpora, models\n",
    "from gensim.utils import simple_preprocess\n",
    "\n",
    "# Preprocessing the text data\n",
    "def preprocess(texts):\n",
    "    return [simple_preprocess(text) for text in texts]\n",
    "\n",
    "# Convert text data into numerical representation\n",
    "def create_bow(texts):\n",
    "    dictionary = corpora.Dictionary(texts)\n",
    "    bow_corpus = [dictionary.doc2bow(text) for text in texts]\n",
    "    return bow_corpus, dictionary\n",
    "\n",
    "# Fit LDA model to the numerical representation\n",
    "def fit_lda_model(texts):\n",
    "    bow_corpus, dictionary = create_bow(texts)\n",
    "    lda_model = models.LdaModel(bow_corpus, num_topics=10, id2word=dictionary)\n",
    "    return lda_model\n",
    "\n",
    "# Find the most popular topics\n",
    "def get_topics(lda_model, top_n=5):\n",
    "    topics = []\n",
    "    for topic_id, topic in lda_model.print_topics(num_words=top_n):\n",
    "        topic_words = re.findall(\"(\\w+)\", topic)\n",
    "        topics.append(topic_words)\n",
    "    return topics\n",
    "\n",
    "texts = [\n",
    "    \"Machine learning is a subfield of artificial intelligence.\",\n",
    "    \"Deep learning is a subset of machine learning.\",\n",
    "    \"Neural networks are a popular method in deep learning.\",\n",
    "    \"Supervised learning is a type of machine learning.\",\n",
    "    \"Unsupervised learning is also a type of machine learning.\"\n",
    "]\n",
    "\n",
    "texts = preprocess(texts)\n",
    "lda_model = fit_lda_model(texts)\n",
    "topics = get_topics(lda_model)\n",
    "\n",
    "print(\"Topics:\", topics)\n",
    "\n"
   ]
  }
 ],
 "metadata": {
  "kernelspec": {
   "display_name": "base",
   "language": "python",
   "name": "python3"
  },
  "language_info": {
   "codemirror_mode": {
    "name": "ipython",
    "version": 3
   },
   "file_extension": ".py",
   "mimetype": "text/x-python",
   "name": "python",
   "nbconvert_exporter": "python",
   "pygments_lexer": "ipython3",
   "version": "3.9.12"
  },
  "orig_nbformat": 4,
  "vscode": {
   "interpreter": {
    "hash": "997e75739200b89f90f4bc2bd1ad43fa2915a573ac0c89293d8462702d7572cd"
   }
  }
 },
 "nbformat": 4,
 "nbformat_minor": 2
}
