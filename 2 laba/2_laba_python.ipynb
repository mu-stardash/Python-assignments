{
 "cells": [
  {
   "attachments": {},
   "cell_type": "markdown",
   "metadata": {},
   "source": [
    "### 1 task"
   ]
  },
  {
   "attachments": {},
   "cell_type": "markdown",
   "metadata": {},
   "source": [
    "Используйте регулярные выражения. Вставьте в ответ код программы на Python, с реализацией функции function(string), на вход которой подается строка string. Функции function(string) с помощью return должна возвращать количество слов в string, которые начинаются с русскоязычных букв “о” или “э” в любом регистре. \n",
    "\n",
    "Например: function(‘Сказала Ольга: \"Это верно ,что 2+2=4\"’) -> 2 ."
   ]
  },
  {
   "cell_type": "code",
   "execution_count": 1,
   "metadata": {},
   "outputs": [],
   "source": [
    "import re\n",
    "\n",
    "def function(string):\n",
    "    regex = r'\\b[оэОЭ][а-яА-ЯёЁ]*\\b' \n",
    "    matches = re.findall(regex, string) \n",
    "    return len(matches)"
   ]
  },
  {
   "cell_type": "code",
   "execution_count": 3,
   "metadata": {},
   "outputs": [
    {
     "name": "stdout",
     "output_type": "stream",
     "text": [
      "2\n",
      "2\n"
     ]
    }
   ],
   "source": [
    "string = 'Сказала Ольга: \"Это верно ,что 2+2=4\"'\n",
    "print(function(string)) # вывод: 2\n",
    "\n",
    "print(function('Это надо знать. Это - классика'))"
   ]
  },
  {
   "attachments": {},
   "cell_type": "markdown",
   "metadata": {},
   "source": [
    "### 2 task"
   ]
  },
  {
   "attachments": {},
   "cell_type": "markdown",
   "metadata": {},
   "source": [
    "Из переданного текста нужно получить последовательности из букв (русских или английских), в которых могут быть дефисы (т.е. слова с дефисами считаются одним словом, а не двумя). Вставьте в ответ код программы с реализацией функции function(string), на вход которой подается строка string. Функции function(string) с помощью return должна возвращать количество указанных последовательностей в string.\n",
    "\n",
    "Например,  function( \"\"\"\n",
    "\n",
    "Он --- серо-буро-малиновый слон!!\n",
    "\n",
    ">>>:->\n",
    "\n",
    "А не кот.\n",
    "\n",
    "  \"\"\")  -> 6"
   ]
  },
  {
   "cell_type": "code",
   "execution_count": 14,
   "metadata": {},
   "outputs": [],
   "source": [
    "import re\n",
    "\n",
    "def function(string):\n",
    "    regex = r'[a-zA-Zа-яА-ЯёЁ]+(?:-[a-zA-Zа-яА-ЯёЁ]+)*' # регулярное выражение для поиска последовательностей букв с дефисами\n",
    "    matches = re.findall(regex, string) \n",
    "    return len(matches)"
   ]
  },
  {
   "cell_type": "code",
   "execution_count": 13,
   "metadata": {},
   "outputs": [
    {
     "name": "stdout",
     "output_type": "stream",
     "text": [
      "7\n",
      "5\n"
     ]
    }
   ],
   "source": [
    "print(function(\"\"\"Он --- серо-буро-малиновый слон!!>>>:->А не кот.\"\"\"))\n",
    "print(function(\"\"\"Он - человек!!>>>:->А не кот.\"\"\"))"
   ]
  },
  {
   "attachments": {},
   "cell_type": "markdown",
   "metadata": {},
   "source": [
    "### 3 task"
   ]
  },
  {
   "attachments": {},
   "cell_type": "markdown",
   "metadata": {},
   "source": [
    "За аббревиатуру будем считать последовательность только заглавных букв (не менее двух). Вставьте в ответ код программы с реализацией функции function(string), на вход которой подается строка string. Функции function(string) с помощью return должна возвращать количество аббревиатур в string.\n",
    "\n",
    "Например: function(« А курс информатики в вузе соответствует ФГОС и ПООП, что подтверждено ФГУ») -> 3 "
   ]
  },
  {
   "cell_type": "code",
   "execution_count": 19,
   "metadata": {},
   "outputs": [],
   "source": [
    "import re\n",
    "\n",
    "def function(string):\n",
    "    regex = r'\\b[A-ZА-ЯёЁ]{2,}'\n",
    "    matches = re.findall(regex, string) \n",
    "    return len(matches)"
   ]
  },
  {
   "cell_type": "code",
   "execution_count": 20,
   "metadata": {},
   "outputs": [
    {
     "name": "stdout",
     "output_type": "stream",
     "text": [
      "3\n",
      "2\n"
     ]
    }
   ],
   "source": [
    "print(function(\" А курс информатики в вузе соответствует ФГОС и ПООП, что подтверждено ФГУ\"))\n",
    "print(function(\" СССР и США\"))"
   ]
  },
  {
   "attachments": {},
   "cell_type": "markdown",
   "metadata": {},
   "source": [
    "### 4 task"
   ]
  },
  {
   "attachments": {},
   "cell_type": "markdown",
   "metadata": {},
   "source": [
    "Предположим вы получили код, в котором переменные названы в стиле CamelCase (название переменной состоит из разных слов, из которых второе и последующее начинаются с заглавных буквы, например: мояПерваяПеременная или атмосферноеДавление), а вам нужен название переменных в стиле snake_case (название состоит из разных слов, которые начинаются с прописных букв и разделены подчеркиванием, например: моя_первая_переменная или атмосферное_давление). Вручную править код будет довольно долго.  Вставьте в ответ код программы с реализацией функции function(string), на вход которой подается строка string с названием переменной в стиле camelCase.  Функция function(string) с помощью return должна возвращать название этой же переменной в стиле snake_case.\n",
    "\n",
    "Например, function(\"camelCaseVar\") -> camel_case_var ."
   ]
  },
  {
   "cell_type": "code",
   "execution_count": 36,
   "metadata": {},
   "outputs": [],
   "source": [
    "import re\n",
    "\n",
    "def function(string):\n",
    "    snake_case = re.sub(r'([A-ZА-Я])', r'_\\1', string).lower()\n",
    "    return snake_case"
   ]
  },
  {
   "cell_type": "code",
   "execution_count": 35,
   "metadata": {},
   "outputs": [
    {
     "name": "stdout",
     "output_type": "stream",
     "text": [
      "camel_\u0000ase_\u0000ar\n",
      "my_\u0000onderful_\u0000ar\n"
     ]
    }
   ],
   "source": [
    "print(function(\"camelCaseVar\"))\n",
    "print(function(\"myWonderfulVar\"))"
   ]
  },
  {
   "attachments": {},
   "cell_type": "markdown",
   "metadata": {},
   "source": [
    "### 5 task"
   ]
  },
  {
   "attachments": {},
   "cell_type": "markdown",
   "metadata": {},
   "source": [
    "Реализовать на своем компьютере. Из файлa n_log1.txt отобрать все строки, содержащие подстроки «KEEP» и «pressure=». Эти строки записать в файл out1.txt. Используя строки в out1.txt найти минимальное, среднее, максимальное значение атмосферного давления (pressure). Найти значение sum_mma, которое рассчитывается, как сумма минимального, максимального и округленного с помощью функции int() среднего значения атмосферного давления. \n",
    "\n",
    "\n",
    "Вставьте в ответ строчку кода, в которой с помощью print() передать найденное на предыдущем шаге sum_mma."
   ]
  },
  {
   "cell_type": "code",
   "execution_count": 46,
   "metadata": {},
   "outputs": [
    {
     "name": "stdout",
     "output_type": "stream",
     "text": [
      "Минимальное давление: 987838\n",
      "Среднее давление: 1012278.5278361344\n",
      "Максимальное давление: 1080579\n",
      "Значение sum_mma: 3080695\n"
     ]
    }
   ],
   "source": [
    "with open('D:/ucheba_4_kurs/Python_labs/lab_works_files/lab_works_files/n_log1.txt', 'r') as f1, open('out1.txt', 'w') as f2:\n",
    "    for line in f1:\n",
    "        # Если строка содержит подстроки 'KEEP' и 'pressure='\n",
    "        if 'KEEP' in line and 'pressure=' in line:\n",
    "            f2.write(line)\n",
    "            \n",
    "# Создаем список для хранения значений давления\n",
    "pressures = []\n",
    "\n",
    "with open('out1.txt', 'r') as f:\n",
    "    for line in f:\n",
    "        # Находим значение давления в строке\n",
    "        pressure = int(line.split('pressure=')[1].split()[0].split(',')[0])\n",
    "        # print(pressure)\n",
    "        pressures.append(pressure)\n",
    "      \n",
    "# Находим минимальное, среднее и максимальное значение давления\n",
    "min_pressure = min(pressures)\n",
    "max_pressure = max(pressures)\n",
    "avg_pressure = sum(pressures) / len(pressures)\n",
    "\n",
    "# Находим значение sum_mma\n",
    "sum_mma = min_pressure + max_pressure + int(avg_pressure)\n",
    "\n",
    "print('Минимальное давление:', min_pressure)\n",
    "print('Среднее давление:', avg_pressure)\n",
    "print('Максимальное давление:', max_pressure)\n",
    "print('Значение sum_mma:', sum_mma)\n"
   ]
  },
  {
   "cell_type": "code",
   "execution_count": 1,
   "metadata": {},
   "outputs": [
    {
     "name": "stdout",
     "output_type": "stream",
     "text": [
      "Минимальное давление: 0\n",
      "Среднее давление: 651.5633749669823\n",
      "Максимальное давление: 1904\n",
      "Значение sum_mma: 2555\n"
     ]
    }
   ],
   "source": [
    "with open('D:/ucheba_4_kurs/Python_labs/lab_works_files/lab_works_files/n_log1.txt', 'r') as f1, open('out1.txt', 'w') as f2, \\\n",
    "open('D:/ucheba_4_kurs/Python_labs/lab_works_files/lab_works_files/n_log1.txt', 'r') as f3:\n",
    "    for line in f1:\n",
    "        # Если строка содержит подстроки 'KEEP' и 'pressure='\n",
    "        if 'KEEP' in line and 'volume=' in line:\n",
    "            f2.write(line)\n",
    "    for line in f3:\n",
    "        # Если строка содержит подстроки 'KEEP' и 'pressure='\n",
    "        if 'KEEP' in line and 'volume=' in line:\n",
    "            f2.write(line)\n",
    "            \n",
    "# Создаем список для хранения значений давления\n",
    "pressures = []\n",
    "\n",
    "with open('out1.txt', 'r') as f:\n",
    "    for line in f:\n",
    "        # Находим значение давления в строке\n",
    "        pressure = int(line.split('volume=')[1].split()[0].split(',')[0])\n",
    "        # print(pressure)\n",
    "        pressures.append(pressure)\n",
    "      \n",
    "# Находим минимальное, среднее и максимальное значение давления\n",
    "min_pressure = min(pressures)\n",
    "max_pressure = max(pressures)\n",
    "avg_pressure = sum(pressures) / len(pressures)\n",
    "\n",
    "# Находим значение sum_mma\n",
    "sum_mma = min_pressure + max_pressure + int(avg_pressure)\n",
    "\n",
    "print('Минимальное давление:', min_pressure)\n",
    "print('Среднее давление:', avg_pressure)\n",
    "print('Максимальное давление:', max_pressure)\n",
    "print('Значение sum_mma:', sum_mma)"
   ]
  },
  {
   "cell_type": "code",
   "execution_count": 3,
   "metadata": {},
   "outputs": [
    {
     "name": "stdout",
     "output_type": "stream",
     "text": [
      "Min volume: 0\n",
      "Max volume: 1904\n",
      "Avg volume: 658.8037162548071\n",
      "Sum of min, max, and avg: 2562\n"
     ]
    }
   ],
   "source": [
    "import re\n",
    "\n",
    "# Отбор строк из файлов n_log1.txt и n_log2.txt\n",
    "keep_pattern = re.compile('KEEP')\n",
    "volume_pattern = re.compile('volume=([0-9]+)')\n",
    "\n",
    "with open('out1.txt', 'w') as out_file:\n",
    "    for file_name in ['D:/ucheba_4_kurs/Python_labs/lab_works_files/lab_works_files/n_log1.txt', 'D:/ucheba_4_kurs/Python_labs/lab_works_files/lab_works_files/n_log2.txt']:\n",
    "        with open(file_name, 'r') as in_file:\n",
    "            for line in in_file:\n",
    "                if keep_pattern.search(line) and volume_pattern.search(line):\n",
    "                    out_file.write(line)\n",
    "\n",
    "# Поиск минимального, максимального, среднего значения объема\n",
    "with open('out1.txt', 'r') as in_file:\n",
    "    volumes = []\n",
    "    for line in in_file:\n",
    "        volume_match = volume_pattern.search(line)\n",
    "        if volume_match:\n",
    "            volumes.append(int(volume_match.group(1)))\n",
    "    if len(volumes) > 0:\n",
    "        min_volume = min(volumes)\n",
    "        max_volume = max(volumes)\n",
    "        avg_volume = sum(volumes) / len(volumes)\n",
    "        sum_mma = (min_volume) + (max_volume) + int(avg_volume)\n",
    "        print(f'Min volume: {min_volume}')\n",
    "        print(f'Max volume: {max_volume}')\n",
    "        print(f'Avg volume: {avg_volume}')\n",
    "        print(f'Sum of min, max, and avg: {sum_mma}')\n",
    "    else:\n",
    "        print('No volumes found.')\n"
   ]
  },
  {
   "attachments": {},
   "cell_type": "markdown",
   "metadata": {},
   "source": [
    "### 6 task"
   ]
  },
  {
   "attachments": {},
   "cell_type": "markdown",
   "metadata": {},
   "source": [
    "Вставьте в ответ код программы с реализацией функции function(dt1, dt2), на вход которой подается две строки dt1 и dt2 вида “ГГГГММДД чч:мм:сс”, где ГГГГ – четырехзначный год, ММ – двузначный номер месяца (вместо 1 месяц пишется 01),  ДД – двузначный номер дня, чч – двузначный номер часа, мм – двузначный номер минуты, сс  – двузначный номер секунды. В этой функции:\n",
    "\n",
    "Преобразуйте строки dt1 и dt2 в datetime объекты (из модуля datetime).\n",
    "Функция function(dt) должна с помощью return в виде целого положительного числа возвращать количество полных (целых) часов между моментами времени dt1 и dt2."
   ]
  },
  {
   "cell_type": "code",
   "execution_count": 63,
   "metadata": {},
   "outputs": [],
   "source": [
    "from datetime import datetime, timedelta\n",
    "\n",
    "def function(dt1, dt2):\n",
    "    dt1_obj = datetime.strptime(dt1, '%Y%m%d %H:%M:%S')\n",
    "    dt2_obj = datetime.strptime(dt2, '%Y%m%d %H:%M:%S')\n",
    "    delta = dt2_obj - dt1_obj\n",
    "    # hours = delta // timedelta(hours=1)\n",
    "    # return hours\n",
    "    hours = delta.total_seconds() // 3600\n",
    "    return int(hours)"
   ]
  },
  {
   "cell_type": "code",
   "execution_count": 73,
   "metadata": {},
   "outputs": [],
   "source": [
    "def function(dt1, dt2):\n",
    "    dt1 = datetime.strptime(dt1, '%Y%m%d %H:%M:%S')\n",
    "    dt2 = datetime.strptime(dt2, '%Y%m%d %H:%M:%S')\n",
    "    diff = dt2 - dt1\n",
    "    hours = diff // timedelta(hours=1)\n",
    "    return int(abs(hours))"
   ]
  },
  {
   "cell_type": "code",
   "execution_count": 74,
   "metadata": {},
   "outputs": [
    {
     "name": "stdout",
     "output_type": "stream",
     "text": [
      "1\n",
      "24\n"
     ]
    }
   ],
   "source": [
    "print(function(\"20211212 12:12:12\", \"20211212 11:12:12\"))\n",
    "print(function(\"20211212 12:12:12\", \"20211213 12:13:13\"))"
   ]
  }
 ],
 "metadata": {
  "kernelspec": {
   "display_name": "base",
   "language": "python",
   "name": "python3"
  },
  "language_info": {
   "codemirror_mode": {
    "name": "ipython",
    "version": 3
   },
   "file_extension": ".py",
   "mimetype": "text/x-python",
   "name": "python",
   "nbconvert_exporter": "python",
   "pygments_lexer": "ipython3",
   "version": "3.9.12"
  },
  "orig_nbformat": 4,
  "vscode": {
   "interpreter": {
    "hash": "997e75739200b89f90f4bc2bd1ad43fa2915a573ac0c89293d8462702d7572cd"
   }
  }
 },
 "nbformat": 4,
 "nbformat_minor": 2
}
