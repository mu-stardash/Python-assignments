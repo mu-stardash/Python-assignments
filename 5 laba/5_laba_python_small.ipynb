{
 "cells": [
  {
   "attachments": {},
   "cell_type": "markdown",
   "metadata": {},
   "source": [
    "# Задание 1"
   ]
  },
  {
   "attachments": {},
   "cell_type": "markdown",
   "metadata": {},
   "source": [
    "Создайте функцию series_data(name, index), где name – название серии (строка), index – целое положительное число, в которой сгенерируйте объект s типа Series, содержащий все простые числа меньшие 10000. Озаглавьте серию как name. Индексы серии s должны начинаться с 1 (1, 2, 3, …). Функция series_data(name, index) с помощью return возвращает сумму соседей числа с заданным индексом index из s, т. е. с индексами index-1 и index+1.\n",
    "Например, при вызове функции series_data («Название серии», 2) должно вернуться  число 7, т. к. вычисляется сумма чисел с индексами 1 и 3 (индекс 2 у числа 3, соседями являются числа 2 и 5).\n",
    "Простое число – натуральное (целое положительное) число, имеющее ровно два различных натуральных делителя: единицу и самого себя."
   ]
  },
  {
   "cell_type": "code",
   "execution_count": 25,
   "metadata": {},
   "outputs": [],
   "source": [
    "import pandas as pd\n",
    "import numpy as np\n",
    "\n",
    "def series_data(name:str, index:int):\n",
    "    prime_numbers = []\n",
    "    n = 2\n",
    "    while len(prime_numbers) < 10000:\n",
    "        flag = True\n",
    "        for i in range(2, int(np.sqrt(n)) + 1):\n",
    "            if n % i == 0:\n",
    "                flag = False\n",
    "        if flag:\n",
    "            prime_numbers.append(n)\n",
    "        n += 1\n",
    "    s = pd.Series(prime_numbers, name=name)\n",
    "    s = s.rename(lambda x: x+1)\n",
    "    # if index == 1:\n",
    "    #     return s[1] + s[2]\n",
    "    # elif index == len(s):\n",
    "    #     return s[index-1] + s[index+1]\n",
    "    # else:\n",
    "    return s[index-1] + s[index+1]\n"
   ]
  },
  {
   "cell_type": "code",
   "execution_count": 26,
   "metadata": {},
   "outputs": [
    {
     "name": "stdout",
     "output_type": "stream",
     "text": [
      "20\n",
      "190\n"
     ]
    }
   ],
   "source": [
    "print(series_data('Название серии', 5))\n",
    "# 20\n",
    "print(series_data('Название серии', 25))\n",
    "# 190"
   ]
  },
  {
   "cell_type": "code",
   "execution_count": 27,
   "metadata": {},
   "outputs": [
    {
     "name": "stdout",
     "output_type": "stream",
     "text": [
      "7\n"
     ]
    }
   ],
   "source": [
    "print(series_data('Название серии', 2))"
   ]
  },
  {
   "attachments": {},
   "cell_type": "markdown",
   "metadata": {},
   "source": [
    "# Задание 2"
   ]
  },
  {
   "attachments": {},
   "cell_type": "markdown",
   "metadata": {},
   "source": [
    "Создайте функцию frame_data(values, indices), где values – двумерный список чисел размера n x m (n =  2, 3, …; m = 2, 3, ...), indices – список из односимвольных значений длиной n. Со значениями values и индексами indices создайте объект df класса DataFrame Отсортируйте df по убыванию значения индекса. Функция frame_data() должна с помощью return возвращать значение последнего элемента второй (по счету) строки после сортировки."
   ]
  },
  {
   "cell_type": "code",
   "execution_count": 34,
   "metadata": {},
   "outputs": [],
   "source": [
    "import pandas as pd\n",
    "\n",
    "def frame_data(values:list, indices:list):\n",
    "    df = pd.DataFrame(values, index=indices)\n",
    "    df.sort_index(ascending=False, inplace=True)\n",
    "    return df.iloc[1,-1]\n"
   ]
  },
  {
   "cell_type": "code",
   "execution_count": 35,
   "metadata": {},
   "outputs": [
    {
     "name": "stdout",
     "output_type": "stream",
     "text": [
      "-3\n",
      "10\n"
     ]
    }
   ],
   "source": [
    "print(frame_data([[1,11,21], [1,2,3], [-1,-2,-3]], ['V','E','F']))\n",
    "# -3\n",
    "print(frame_data([[111,111,31,41,51,116], [141,15,61,6,717,160], [77,82,91,324,314,10]], ['Z','E','F']))\n",
    "# 10\n"
   ]
  },
  {
   "attachments": {},
   "cell_type": "markdown",
   "metadata": {},
   "source": [
    "# Задание 3"
   ]
  },
  {
   "attachments": {},
   "cell_type": "markdown",
   "metadata": {},
   "source": [
    "Реализовать на своем компьютере. В файле tranzaktions.csv приведена история продаж автомобилей тремя продавцами seller_1, seller_2, seller_3 автомагазина. Написать функцию sellers(n), в которую передается номер продавца n (1<= n<=3). В функции, используя методы модуля pandas:\n",
    "\n",
    " \n",
    "\n",
    "Преобразовать файл tranzaktions.csv в DataFrame.\n",
    "Используя агрегацию найти и сохранить в переменные sum_n и avg_n соответственно сумму и среднее значение вырученных средств продавца с номером n (seller_n). Среднее значение avg_n, используя функцию round(), округлить до целого числа.\n",
    "Используя агрегацию найти и сохранить в переменную avg2_n  среднее значение вырученных средств продавца с номером n (seller_n) при продаже автомобилей, цена которых >= 2 миллиона. Среднее значение avg2_n, используя функцию round(), округлить до целого числа.\n",
    "Функция sellers(n) с помощью return должна возвращать сумму значений sum_n, avg_n и avg2_n.\n",
    "Найти значение sel_n, которое возвращает sellers(n) при n=2.\n",
    " \n",
    "\n",
    "Вставьте в ответ строчку кода, в которой с помощью print() передать найденное sel_n."
   ]
  },
  {
   "cell_type": "code",
   "execution_count": 39,
   "metadata": {},
   "outputs": [],
   "source": [
    "import pandas as pd\n",
    "\n",
    "def sellers(n:int):\n",
    "    df = pd.read_csv(\"D:/ucheba_4_kurs/Python_labs/lab_works_files/lab_works_files/tranzaktions.csv\", sep=\"\\t\", engine='python')\n",
    "    seller_sales = df[df['Продавец'] == f'seller_{n}']\n",
    "    sum_n = seller_sales['Цена (млн)'].sum()\n",
    "    avg_n = round(seller_sales['Цена (млн)'].mean())\n",
    "    avg2_n = round(seller_sales[seller_sales['Цена (млн)'] >= 2]['Цена (млн)'].mean())\n",
    "\n",
    "    return sum_n + avg_n + avg2_n\n"
   ]
  },
  {
   "cell_type": "code",
   "execution_count": 40,
   "metadata": {},
   "outputs": [
    {
     "name": "stdout",
     "output_type": "stream",
     "text": [
      "15.7\n"
     ]
    }
   ],
   "source": [
    "sel_n = sellers(2)\n",
    "print(sel_n)"
   ]
  }
 ],
 "metadata": {
  "kernelspec": {
   "display_name": "base",
   "language": "python",
   "name": "python3"
  },
  "language_info": {
   "codemirror_mode": {
    "name": "ipython",
    "version": 3
   },
   "file_extension": ".py",
   "mimetype": "text/x-python",
   "name": "python",
   "nbconvert_exporter": "python",
   "pygments_lexer": "ipython3",
   "version": "3.9.12"
  },
  "orig_nbformat": 4
 },
 "nbformat": 4,
 "nbformat_minor": 2
}
