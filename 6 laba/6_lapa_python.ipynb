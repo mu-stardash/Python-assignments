{
 "cells": [
  {
   "attachments": {},
   "cell_type": "markdown",
   "metadata": {},
   "source": [
    "# 1.\n",
    " Вставьте в ответ код программы с реализацией функции get_headers(), в которой выполните GET-запрос на https://httpbin.org/get и получите текст ответа в json-формате. С помощью return функция get_headers() должна возвращать значение из заголовков (“headers”) по ключу “Host”."
   ]
  },
  {
   "cell_type": "code",
   "execution_count": null,
   "metadata": {},
   "outputs": [],
   "source": [
    "import requests\n",
    "\n",
    "def get_headers():\n",
    "    response = requests.get(\"https://httpbin.org/get\")\n",
    "    response_json = response.json()\n",
    "    return response_json[\"headers\"][\"Host\"]"
   ]
  },
  {
   "attachments": {},
   "cell_type": "markdown",
   "metadata": {},
   "source": [
    "# 2.\n",
    "C помощью методов модуля bs4 узнайте сумму sum_da количества тегов \\<div\\> и \\<a\\> на веб-странице ПетрГУ_Википедия.html.\n",
    "\n",
    "Вставьте в ответ строчку кода, в которой с помощью print() передать найденное sum_da."
   ]
  },
  {
   "cell_type": "code",
   "execution_count": 3,
   "metadata": {},
   "outputs": [
    {
     "name": "stdout",
     "output_type": "stream",
     "text": [
      "Сумма количества тегов <div> и <a> на странице:  2119\n"
     ]
    }
   ],
   "source": [
    "from bs4 import BeautifulSoup\n",
    "\n",
    "with open(\"D:/ucheba_4_kurs/Python_labs/lab_works_files/lab_works_files/ПетрГУ_Википедия.html\", \"r\", encoding=\"utf-8\") as f:\n",
    "    text = f.read()\n",
    "soup = BeautifulSoup(text, \"html.parser\")\n",
    "\n",
    "div_tags = soup.find_all(\"div\")\n",
    "a_tags = soup.find_all(\"a\")\n",
    "summa = len(div_tags) + len(a_tags)\n",
    "\n",
    "print(\"Сумма количества тегов <div> и <a> на странице: \", summa)"
   ]
  },
  {
   "attachments": {},
   "cell_type": "markdown",
   "metadata": {},
   "source": [
    "# 3.\n",
    "Используя средства модуля bs4, из сохраненной веб-страницы Карелия_Википедия.html получить имена всех театров РК и wiki-ссылки на них (которые начинаются с /wiki/). Из полученных названий и ссылок составить словарь, в котором ключом является название театра, а значением его wiki-ссылка. В качестве ответа передать wiki-ссылку на “Музыкальный театр Республики Карелия”. \n",
    "\n",
    "В ответ с помощью print() нужно передать то, что находится в кавычках после \"/href=\" (кавычки и информацию о title в ответ вставлять не нужно)."
   ]
  },
  {
   "cell_type": "code",
   "execution_count": 72,
   "metadata": {},
   "outputs": [
    {
     "name": "stdout",
     "output_type": "stream",
     "text": [
      "{'Музыкальный театр Республики Карелия': '/wiki/%D0%9C%D1%83%D0%B7%D1%8B%D0%BA%D0%B0%D0%BB%D1%8C%D0%BD%D1%8B%D0%B9_%D1%82%D0%B5%D0%B0%D1%82%D1%80_%D0%A0%D0%B5%D1%81%D0%BF%D1%83%D0%B1%D0%BB%D0%B8%D0%BA%D0%B8_%D0%9A%D0%B0%D1%80%D0%B5%D0%BB%D0%B8%D1%8F', 'Национальный театр Республики Карелия': '/wiki/%D0%9D%D0%B0%D1%86%D0%B8%D0%BE%D0%BD%D0%B0%D0%BB%D1%8C%D0%BD%D1%8B%D0%B9_%D1%82%D0%B5%D0%B0%D1%82%D1%80_%D0%A0%D0%B5%D1%81%D0%BF%D1%83%D0%B1%D0%BB%D0%B8%D0%BA%D0%B8_%D0%9A%D0%B0%D1%80%D0%B5%D0%BB%D0%B8%D1%8F', 'Государственный театр кукол Республики Карелия': '/wiki/%D0%A2%D0%B5%D0%B0%D1%82%D1%80_%D0%BA%D1%83%D0%BA%D0%BE%D0%BB_%D0%A0%D0%B5%D1%81%D0%BF%D1%83%D0%B1%D0%BB%D0%B8%D0%BA%D0%B8_%D0%9A%D0%B0%D1%80%D0%B5%D0%BB%D0%B8%D1%8F', 'Молодёжный театр «Творческая Мастерская»': '/wiki/%D0%A2%D0%B2%D0%BE%D1%80%D1%87%D0%B5%D1%81%D0%BA%D0%B0%D1%8F_%D0%BC%D0%B0%D1%81%D1%82%D0%B5%D1%80%D1%81%D0%BA%D0%B0%D1%8F_(%D1%82%D0%B5%D0%B0%D1%82%D1%80)', 'Негосударственный авторский театр «Ad Liberum»': '/wiki/Ad_Liberum'}\n",
      "Ссылка на Музыкальный театр Республики Карелия: /wiki/%D0%9C%D1%83%D0%B7%D1%8B%D0%BA%D0%B0%D0%BB%D1%8C%D0%BD%D1%8B%D0%B9_%D1%82%D0%B5%D0%B0%D1%82%D1%80_%D0%A0%D0%B5%D1%81%D0%BF%D1%83%D0%B1%D0%BB%D0%B8%D0%BA%D0%B8_%D0%9A%D0%B0%D1%80%D0%B5%D0%BB%D0%B8%D1%8F\n"
     ]
    }
   ],
   "source": [
    "from bs4 import BeautifulSoup\n",
    "\n",
    "with open(\"D:/ucheba_4_kurs/Python_labs/lab_works_files/lab_works_files/Карелия_Википедия.html\", \"r\", encoding=\"utf-8\") as f:\n",
    "    text = f.read()\n",
    "soup = BeautifulSoup(text, \"html.parser\")\n",
    "\n",
    "theater_tags = soup.find_all('ul')\n",
    "theater_dict = {}\n",
    "# костыль\n",
    "# print(theater_tags[39])\n",
    "\n",
    "for tag in theater_tags[39]:\n",
    "    # print(tag.text)\n",
    "    if \"театр\" in (tag.text).lower():\n",
    "        name = tag.text\n",
    "        link = tag.find('a').get('href')\n",
    "        # print(link)\n",
    "        if link.startswith(\"/wiki/\"):\n",
    "            theater_dict[name] = link\n",
    "\n",
    "print(theater_dict)\n",
    "print(\"Ссылка на Музыкальный театр Республики Карелия:\", theater_dict[\"Музыкальный театр Республики Карелия\"])\n"
   ]
  }
 ],
 "metadata": {
  "kernelspec": {
   "display_name": "base",
   "language": "python",
   "name": "python3"
  },
  "language_info": {
   "codemirror_mode": {
    "name": "ipython",
    "version": 3
   },
   "file_extension": ".py",
   "mimetype": "text/x-python",
   "name": "python",
   "nbconvert_exporter": "python",
   "pygments_lexer": "ipython3",
   "version": "3.9.12"
  },
  "orig_nbformat": 4
 },
 "nbformat": 4,
 "nbformat_minor": 2
}
